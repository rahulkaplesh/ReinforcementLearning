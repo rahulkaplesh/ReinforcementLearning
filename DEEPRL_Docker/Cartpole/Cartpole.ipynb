{
 "metadata": {
  "language_info": {
   "codemirror_mode": {
    "name": "ipython",
    "version": 3
   },
   "file_extension": ".py",
   "mimetype": "text/x-python",
   "name": "python",
   "nbconvert_exporter": "python",
   "pygments_lexer": "ipython3",
   "version": "3.6.9-final"
  },
  "orig_nbformat": 2,
  "kernelspec": {
   "name": "Python 3.6.9 64-bit",
   "display_name": "Python 3.6.9 64-bit",
   "metadata": {
    "interpreter": {
     "hash": "31f2aee4e71d21fbe5cf8b01ff0e069b9275f58929596ceb00d14d90e3e16cd6"
    }
   }
  }
 },
 "nbformat": 4,
 "nbformat_minor": 2,
 "cells": [
  {
   "cell_type": "code",
   "execution_count": 3,
   "metadata": {
    "tags": []
   },
   "outputs": [
    {
     "output_type": "stream",
     "name": "stdout",
     "text": "observation space: Box(4,)\naction space: 2\n"
    }
   ],
   "source": [
    "import gym\n",
    "import numpy as np\n",
    "env = gym.make('CartPole-v1')\n",
    "env.seed(101)\n",
    "np.random.seed(101)\n",
    "import torch\n",
    "\n",
    "print('observation space:', env.observation_space)\n",
    "print('action space:', env.action_space.n)"
   ]
  },
  {
   "cell_type": "code",
   "execution_count": 8,
   "metadata": {},
   "outputs": [
    {
     "output_type": "display_data",
     "data": {
      "text/plain": "<Figure size 432x288 with 1 Axes>",
      "image/svg+xml": "<?xml version=\"1.0\" encoding=\"utf-8\" standalone=\"no\"?>\n<!DOCTYPE svg PUBLIC \"-//W3C//DTD SVG 1.1//EN\"\n  \"http://www.w3.org/Graphics/SVG/1.1/DTD/svg11.dtd\">\n<!-- Created with matplotlib (https://matplotlib.org/) -->\n<svg height=\"231.84pt\" version=\"1.1\" viewBox=\"0 0 340.56 231.84\" width=\"340.56pt\" xmlns=\"http://www.w3.org/2000/svg\" xmlns:xlink=\"http://www.w3.org/1999/xlink\">\n <metadata>\n  <rdf:RDF xmlns:cc=\"http://creativecommons.org/ns#\" xmlns:dc=\"http://purl.org/dc/elements/1.1/\" xmlns:rdf=\"http://www.w3.org/1999/02/22-rdf-syntax-ns#\">\n   <cc:Work>\n    <dc:type rdf:resource=\"http://purl.org/dc/dcmitype/StillImage\"/>\n    <dc:date>2020-09-28T03:58:32.207492</dc:date>\n    <dc:format>image/svg+xml</dc:format>\n    <dc:creator>\n     <cc:Agent>\n      <dc:title>Matplotlib v3.3.2, https://matplotlib.org/</dc:title>\n     </cc:Agent>\n    </dc:creator>\n   </cc:Work>\n  </rdf:RDF>\n </metadata>\n <defs>\n  <style type=\"text/css\">*{stroke-linecap:butt;stroke-linejoin:round;}</style>\n </defs>\n <g id=\"figure_1\">\n  <g id=\"patch_1\">\n   <path d=\"M 0 231.84 \nL 340.56 231.84 \nL 340.56 0 \nL 0 0 \nz\n\" style=\"fill:none;\"/>\n  </g>\n  <g id=\"axes_1\">\n   <g clip-path=\"url(#p0ab4a38a8e)\">\n    <image height=\"218\" id=\"image5182dd0f5e\" transform=\"scale(1 -1)translate(0 -218)\" width=\"327\" x=\"7.2\" xlink:href=\"data:image/png;base64,\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\" y=\"-6.64\"/>\n   </g>\n  </g>\n </g>\n <defs>\n  <clipPath id=\"p0ab4a38a8e\">\n   <rect height=\"217.44\" width=\"326.16\" x=\"7.2\" y=\"7.2\"/>\n  </clipPath>\n </defs>\n</svg>\n",
      "image/png": "[encoded data removed]"
     },
     "metadata": {
      "needs_background": "light"
     }
    }
   ],
   "source": [
    "\n",
    "import matplotlib.pyplot as plt\n",
    "%matplotlib inline\n",
    "\n",
    "from pyvirtualdisplay import Display\n",
    "display = Display(visible=0, size=(1400, 900))\n",
    "display.start()\n",
    "\n",
    "is_ipython = 'inline' in plt.get_backend()\n",
    "if is_ipython:\n",
    "    from IPython import display\n",
    "\n",
    "plt.ion()\n",
    "\n",
    "from agent import Agent\n",
    "\n",
    "agent = Agent(env)\n",
    "agent.load_state_dict(torch.load('../checkpointCartPole.pth'))\n",
    "\n",
    "state = env.reset()\n",
    "img = plt.imshow(env.render(mode='rgb_array'))\n",
    "while True:\n",
    "    state = torch.from_numpy(state).float()\n",
    "    with torch.no_grad():\n",
    "        action = agent.forward(state)\n",
    "    next_state, reward, done, _ = env.step(np.argmax(action.numpy()))\n",
    "    img.set_data(env.render(mode='rgb_array')) \n",
    "    plt.axis('off')\n",
    "    display.display(plt.gcf())\n",
    "    display.clear_output(wait=True)    \n",
    "    state = next_state\n",
    "    if done:\n",
    "        break\n",
    "\n",
    "env.close()"
   ]
  },
  {
   "cell_type": "code",
   "execution_count": null,
   "metadata": {},
   "outputs": [],
   "source": []
  }
 ]
}